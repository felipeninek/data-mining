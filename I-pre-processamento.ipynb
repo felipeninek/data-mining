{
 "cells": [
  {
   "cell_type": "markdown",
   "metadata": {
    "heading_collapsed": true
   },
   "source": [
    "# Pré-processamento"
   ]
  },
  {
   "cell_type": "markdown",
   "metadata": {
    "heading_collapsed": true,
    "hidden": true
   },
   "source": [
    "#### Limpeza de dados"
   ]
  },
  {
   "cell_type": "raw",
   "metadata": {
    "ExecuteTime": {
     "end_time": "2022-05-18T17:48:25.546744Z",
     "start_time": "2022-05-18T17:48:25.539981Z"
    },
    "hidden": true
   },
   "source": [
    "Dados faltantes:\n",
    "    - Remover o objeto se tiver muitos dados faltantes\n",
    "    - Imputar valores impiricamente\n",
    "    - Atribuir uma constante para valores ausentes\n",
    "    - Hot-deck, imputar valores de acordo com objetos similares ou distâncias próximas\n",
    "    - Ordenar a base e utilizar valores anteriores ou posteriores\n",
    "    - Utilizar média ou moda em relação ao dataset todo\n",
    "    - Utilizar média ou moda de objetos da mesma classe\n",
    "    - Utilizar modelos preditivos\n",
    "        \n",
    "Dados ruidosos:\n",
    "    - Encaixotamento de mesma largura:\n",
    "        Divide-se o dataset em caixas e suaviza os valores utilizando a média dessas caixas\n",
    "    - Encaixotamento de mesma frequência:\n",
    "        Dividi-se o dataset em caixas e suaviza os valores utilizando o extreme mais próximo\n",
    "    - Agrupamento:\n",
    "        Agrupar por valores de classe\n",
    "    - Aproximação:\n",
    "        Encontrar a equação da reta e utilizar valores suavizados baseados na equação\n",
    "        \n",
    "Dados inconsistentes:\n",
    "    Para tratar esse tipo de problema é necessário analisar e entender o conjunto de dados"
   ]
  },
  {
   "cell_type": "markdown",
   "metadata": {
    "heading_collapsed": true,
    "hidden": true
   },
   "source": [
    "#### Integração de dados"
   ]
  },
  {
   "cell_type": "raw",
   "metadata": {
    "hidden": true
   },
   "source": [
    "No processo de integração de dados de bases diferentes é necessário verificar se há:\n",
    "    - Redundâncias entre objetos e atributos (idade e data de nascimento)\n",
    "    - Duplicidade entre objetos e atributos (mesmos dados em bases diferentes)\n",
    "    - Conflitos entre objetos e atributos (ex: grandezas dos atributos e valores diferentes para um mesmo objeto)"
   ]
  },
  {
   "cell_type": "markdown",
   "metadata": {
    "heading_collapsed": true,
    "hidden": true
   },
   "source": [
    "#### Redução de dimensionalidade"
   ]
  },
  {
   "cell_type": "raw",
   "metadata": {
    "hidden": true
   },
   "source": [
    "Seleção de atributos:\n",
    "    - Eliminação de atributos repetitivos ou desnecessários\n",
    "    \n",
    "Compressão de atributos:\n",
    "    - Algoritmos de codificação ou transformação de dados (PCA)\n",
    "        O algoritmo faz a seleção dos atributos de acordo com uma anáise baseada na correlação dos atributos\n",
    "    \n",
    "Redução nos dados:\n",
    "    - Amostragem:\n",
    "        Amostragem sem substituição\n",
    "        Amostragem com substituição\n",
    "        Amostragem sistemática\n",
    "        Amostragem estratificada\n",
    "        Amostragem por grupos\n"
   ]
  },
  {
   "cell_type": "markdown",
   "metadata": {
    "heading_collapsed": true,
    "hidden": true
   },
   "source": [
    "#### Transformação dos dados"
   ]
  },
  {
   "cell_type": "raw",
   "metadata": {
    "hidden": true
   },
   "source": [
    "Tem como finaidade adequar os dados para serem utilizados em algoritmos de data mining\n",
    "\n",
    "Padronização:\n",
    "    - Capitalização:\n",
    "        Tratar objetos com letras maiúsculas e minúsculas\n",
    "        \n",
    "    - Caracteres especiais:\n",
    "        Tratar caracteres especiais, normalmente problemas com acentuação\n",
    "        \n",
    "    - Padronização de formatos:\n",
    "        Padrões de datas ou formatos de documentos\n",
    "        \n",
    "    - Conversão de unidades:\n",
    "        Padronizar unidades de medida dos objetos\n",
    "        \n",
    "Normalização:\n",
    "    Max-Min: transforma os valores em um intervalo de [0,1]\n",
    "        \n",
    "    Score-z: normalização pela média e desvio padrão(valores max e min desconhecidos ou presença de outliers)\n",
    "        \n",
    "    Escalonamento decimal\n",
    "    \n",
    "    Normalização pelo range interquartil"
   ]
  },
  {
   "cell_type": "markdown",
   "metadata": {
    "heading_collapsed": true,
    "hidden": true
   },
   "source": [
    "#### Discretização dos dados"
   ]
  },
  {
   "cell_type": "raw",
   "metadata": {
    "hidden": true
   },
   "source": [
    "Transformar os valores dos atributros para dados catergóricos, ou seja, a criação de classes\n",
    "    - Intervalos predeterminados\n",
    "    - Encaixotamento\n",
    "    - Analise de histograma\n",
    "    - Agrupamento\n",
    "    - Entropia"
   ]
  },
  {
   "cell_type": "markdown",
   "metadata": {
    "heading_collapsed": true,
    "hidden": true
   },
   "source": [
    "### Exemplo"
   ]
  },
  {
   "cell_type": "raw",
   "metadata": {
    "hidden": true
   },
   "source": [
    "Exemplo de pré-processamento em um pequeno dataset sobre covid-19, verificação de incompletude e redundância"
   ]
  },
  {
   "cell_type": "code",
   "execution_count": 1,
   "metadata": {
    "ExecuteTime": {
     "end_time": "2022-05-18T17:21:19.796287Z",
     "start_time": "2022-05-18T17:21:19.792860Z"
    },
    "hidden": true
   },
   "outputs": [],
   "source": [
    "import pandas as pd\n",
    "import numpy as np"
   ]
  },
  {
   "cell_type": "code",
   "execution_count": 2,
   "metadata": {
    "ExecuteTime": {
     "end_time": "2022-05-18T17:21:20.285593Z",
     "start_time": "2022-05-18T17:21:19.952940Z"
    },
    "hidden": true
   },
   "outputs": [
    {
     "data": {
      "text/html": [
       "<div>\n",
       "<style scoped>\n",
       "    .dataframe tbody tr th:only-of-type {\n",
       "        vertical-align: middle;\n",
       "    }\n",
       "\n",
       "    .dataframe tbody tr th {\n",
       "        vertical-align: top;\n",
       "    }\n",
       "\n",
       "    .dataframe thead th {\n",
       "        text-align: right;\n",
       "    }\n",
       "</style>\n",
       "<table border=\"1\" class=\"dataframe\">\n",
       "  <thead>\n",
       "    <tr style=\"text-align: right;\">\n",
       "      <th></th>\n",
       "      <th>id</th>\n",
       "      <th>idade</th>\n",
       "      <th>uf</th>\n",
       "      <th>renda</th>\n",
       "      <th>vacina</th>\n",
       "    </tr>\n",
       "  </thead>\n",
       "  <tbody>\n",
       "    <tr>\n",
       "      <th>0</th>\n",
       "      <td>1</td>\n",
       "      <td>15.0</td>\n",
       "      <td>SP</td>\n",
       "      <td>C</td>\n",
       "      <td>1</td>\n",
       "    </tr>\n",
       "    <tr>\n",
       "      <th>1</th>\n",
       "      <td>2</td>\n",
       "      <td>38.0</td>\n",
       "      <td>MG</td>\n",
       "      <td>NaN</td>\n",
       "      <td>0</td>\n",
       "    </tr>\n",
       "    <tr>\n",
       "      <th>2</th>\n",
       "      <td>3</td>\n",
       "      <td>49.0</td>\n",
       "      <td>RJ</td>\n",
       "      <td>C</td>\n",
       "      <td>0</td>\n",
       "    </tr>\n",
       "    <tr>\n",
       "      <th>3</th>\n",
       "      <td>4</td>\n",
       "      <td>71.0</td>\n",
       "      <td>BA</td>\n",
       "      <td>NaN</td>\n",
       "      <td>0</td>\n",
       "    </tr>\n",
       "    <tr>\n",
       "      <th>4</th>\n",
       "      <td>5</td>\n",
       "      <td>58.0</td>\n",
       "      <td>MG</td>\n",
       "      <td>D</td>\n",
       "      <td>1</td>\n",
       "    </tr>\n",
       "  </tbody>\n",
       "</table>\n",
       "</div>"
      ],
      "text/plain": [
       "   id  idade  uf renda  vacina\n",
       "0   1   15.0  SP     C       1\n",
       "1   2   38.0  MG   NaN       0\n",
       "2   3   49.0  RJ     C       0\n",
       "3   4   71.0  BA   NaN       0\n",
       "4   5   58.0  MG     D       1"
      ]
     },
     "execution_count": 2,
     "metadata": {},
     "output_type": "execute_result"
    }
   ],
   "source": [
    "df = pd.read_csv('https://raw.githubusercontent.com/higoramario/univesp-com360-mineracao-dados/main/dados-covid-limpeza.csv')\n",
    "df.head()"
   ]
  },
  {
   "cell_type": "code",
   "execution_count": 3,
   "metadata": {
    "ExecuteTime": {
     "end_time": "2022-05-18T17:21:20.310923Z",
     "start_time": "2022-05-18T17:21:20.300359Z"
    },
    "hidden": true
   },
   "outputs": [
    {
     "name": "stdout",
     "output_type": "stream",
     "text": [
      "<class 'pandas.core.frame.DataFrame'>\n",
      "RangeIndex: 50 entries, 0 to 49\n",
      "Data columns (total 5 columns):\n",
      " #   Column  Non-Null Count  Dtype  \n",
      "---  ------  --------------  -----  \n",
      " 0   id      50 non-null     int64  \n",
      " 1   idade   30 non-null     float64\n",
      " 2   uf      29 non-null     object \n",
      " 3   renda   31 non-null     object \n",
      " 4   vacina  50 non-null     int64  \n",
      "dtypes: float64(1), int64(2), object(2)\n",
      "memory usage: 2.1+ KB\n"
     ]
    }
   ],
   "source": [
    "df.info()"
   ]
  },
  {
   "cell_type": "code",
   "execution_count": 4,
   "metadata": {
    "ExecuteTime": {
     "end_time": "2022-05-18T17:21:20.426001Z",
     "start_time": "2022-05-18T17:21:20.322659Z"
    },
    "hidden": true
   },
   "outputs": [
    {
     "data": {
      "text/html": [
       "<div>\n",
       "<style scoped>\n",
       "    .dataframe tbody tr th:only-of-type {\n",
       "        vertical-align: middle;\n",
       "    }\n",
       "\n",
       "    .dataframe tbody tr th {\n",
       "        vertical-align: top;\n",
       "    }\n",
       "\n",
       "    .dataframe thead th {\n",
       "        text-align: right;\n",
       "    }\n",
       "</style>\n",
       "<table border=\"1\" class=\"dataframe\">\n",
       "  <thead>\n",
       "    <tr style=\"text-align: right;\">\n",
       "      <th></th>\n",
       "      <th>id</th>\n",
       "      <th>idade</th>\n",
       "      <th>vacina</th>\n",
       "    </tr>\n",
       "  </thead>\n",
       "  <tbody>\n",
       "    <tr>\n",
       "      <th>count</th>\n",
       "      <td>50.00000</td>\n",
       "      <td>30.000000</td>\n",
       "      <td>50.00000</td>\n",
       "    </tr>\n",
       "    <tr>\n",
       "      <th>mean</th>\n",
       "      <td>25.50000</td>\n",
       "      <td>48.666667</td>\n",
       "      <td>0.30000</td>\n",
       "    </tr>\n",
       "    <tr>\n",
       "      <th>std</th>\n",
       "      <td>14.57738</td>\n",
       "      <td>22.197131</td>\n",
       "      <td>0.46291</td>\n",
       "    </tr>\n",
       "    <tr>\n",
       "      <th>min</th>\n",
       "      <td>1.00000</td>\n",
       "      <td>14.000000</td>\n",
       "      <td>0.00000</td>\n",
       "    </tr>\n",
       "    <tr>\n",
       "      <th>25%</th>\n",
       "      <td>13.25000</td>\n",
       "      <td>33.500000</td>\n",
       "      <td>0.00000</td>\n",
       "    </tr>\n",
       "    <tr>\n",
       "      <th>50%</th>\n",
       "      <td>25.50000</td>\n",
       "      <td>48.500000</td>\n",
       "      <td>0.00000</td>\n",
       "    </tr>\n",
       "    <tr>\n",
       "      <th>75%</th>\n",
       "      <td>37.75000</td>\n",
       "      <td>61.000000</td>\n",
       "      <td>1.00000</td>\n",
       "    </tr>\n",
       "    <tr>\n",
       "      <th>max</th>\n",
       "      <td>50.00000</td>\n",
       "      <td>87.000000</td>\n",
       "      <td>1.00000</td>\n",
       "    </tr>\n",
       "  </tbody>\n",
       "</table>\n",
       "</div>"
      ],
      "text/plain": [
       "             id      idade    vacina\n",
       "count  50.00000  30.000000  50.00000\n",
       "mean   25.50000  48.666667   0.30000\n",
       "std    14.57738  22.197131   0.46291\n",
       "min     1.00000  14.000000   0.00000\n",
       "25%    13.25000  33.500000   0.00000\n",
       "50%    25.50000  48.500000   0.00000\n",
       "75%    37.75000  61.000000   1.00000\n",
       "max    50.00000  87.000000   1.00000"
      ]
     },
     "execution_count": 4,
     "metadata": {},
     "output_type": "execute_result"
    }
   ],
   "source": [
    "df.describe()"
   ]
  },
  {
   "cell_type": "code",
   "execution_count": 5,
   "metadata": {
    "ExecuteTime": {
     "end_time": "2022-05-18T17:21:20.518591Z",
     "start_time": "2022-05-18T17:21:20.450679Z"
    },
    "hidden": true
   },
   "outputs": [
    {
     "data": {
      "text/plain": [
       "SP    9\n",
       "MG    5\n",
       "BA    3\n",
       "RS    3\n",
       "RJ    2\n",
       "PE    2\n",
       "sp    1\n",
       "ce    1\n",
       "rj    1\n",
       "CE    1\n",
       "AM    1\n",
       "Name: uf, dtype: int64"
      ]
     },
     "execution_count": 5,
     "metadata": {},
     "output_type": "execute_result"
    }
   ],
   "source": [
    "#verificar redundancia\n",
    "df['uf'].value_counts()"
   ]
  },
  {
   "cell_type": "code",
   "execution_count": 6,
   "metadata": {
    "ExecuteTime": {
     "end_time": "2022-05-18T17:21:20.620827Z",
     "start_time": "2022-05-18T17:21:20.598739Z"
    },
    "hidden": true
   },
   "outputs": [
    {
     "data": {
      "text/plain": [
       "SP    10\n",
       "MG     5\n",
       "RJ     3\n",
       "BA     3\n",
       "RS     3\n",
       "CE     2\n",
       "PE     2\n",
       "AM     1\n",
       "Name: uf, dtype: int64"
      ]
     },
     "execution_count": 6,
     "metadata": {},
     "output_type": "execute_result"
    }
   ],
   "source": [
    "df['uf'] = df['uf'].str.upper()\n",
    "df['uf'].value_counts()"
   ]
  },
  {
   "cell_type": "code",
   "execution_count": 7,
   "metadata": {
    "ExecuteTime": {
     "end_time": "2022-05-18T17:21:20.756793Z",
     "start_time": "2022-05-18T17:21:20.741283Z"
    },
    "hidden": true
   },
   "outputs": [
    {
     "data": {
      "text/plain": [
       "0    35\n",
       "1    15\n",
       "Name: vacina, dtype: int64"
      ]
     },
     "execution_count": 7,
     "metadata": {},
     "output_type": "execute_result"
    }
   ],
   "source": [
    "df['vacina'].value_counts()"
   ]
  },
  {
   "cell_type": "code",
   "execution_count": 8,
   "metadata": {
    "ExecuteTime": {
     "end_time": "2022-05-18T17:21:20.909814Z",
     "start_time": "2022-05-18T17:21:20.904598Z"
    },
    "hidden": true
   },
   "outputs": [],
   "source": [
    "#preencher valores nulos de idade com a média\n",
    "df['idade'].fillna(round(df['idade'].mean()), inplace=True)"
   ]
  },
  {
   "cell_type": "code",
   "execution_count": 9,
   "metadata": {
    "ExecuteTime": {
     "end_time": "2022-05-18T17:21:21.044481Z",
     "start_time": "2022-05-18T17:21:21.035912Z"
    },
    "hidden": true
   },
   "outputs": [],
   "source": [
    "#preencher valores nulos de uf com o próximo registro\n",
    "df['uf'].fillna(method='ffill', inplace=True)"
   ]
  },
  {
   "cell_type": "code",
   "execution_count": 10,
   "metadata": {
    "ExecuteTime": {
     "end_time": "2022-05-18T17:21:21.435026Z",
     "start_time": "2022-05-18T17:21:21.431293Z"
    },
    "hidden": true
   },
   "outputs": [],
   "source": [
    "#preencher valores de renda com o valor anterior\n",
    "df['renda'].fillna(method='bfill', inplace=True)"
   ]
  },
  {
   "cell_type": "code",
   "execution_count": 11,
   "metadata": {
    "ExecuteTime": {
     "end_time": "2022-05-18T17:21:21.590793Z",
     "start_time": "2022-05-18T17:21:21.566273Z"
    },
    "hidden": true
   },
   "outputs": [
    {
     "data": {
      "text/html": [
       "<div>\n",
       "<style scoped>\n",
       "    .dataframe tbody tr th:only-of-type {\n",
       "        vertical-align: middle;\n",
       "    }\n",
       "\n",
       "    .dataframe tbody tr th {\n",
       "        vertical-align: top;\n",
       "    }\n",
       "\n",
       "    .dataframe thead th {\n",
       "        text-align: right;\n",
       "    }\n",
       "</style>\n",
       "<table border=\"1\" class=\"dataframe\">\n",
       "  <thead>\n",
       "    <tr style=\"text-align: right;\">\n",
       "      <th></th>\n",
       "      <th>id</th>\n",
       "      <th>idade</th>\n",
       "      <th>uf</th>\n",
       "      <th>renda</th>\n",
       "      <th>vacina</th>\n",
       "    </tr>\n",
       "  </thead>\n",
       "  <tbody>\n",
       "    <tr>\n",
       "      <th>0</th>\n",
       "      <td>1</td>\n",
       "      <td>15.0</td>\n",
       "      <td>SP</td>\n",
       "      <td>C</td>\n",
       "      <td>1</td>\n",
       "    </tr>\n",
       "    <tr>\n",
       "      <th>1</th>\n",
       "      <td>2</td>\n",
       "      <td>38.0</td>\n",
       "      <td>MG</td>\n",
       "      <td>C</td>\n",
       "      <td>0</td>\n",
       "    </tr>\n",
       "    <tr>\n",
       "      <th>2</th>\n",
       "      <td>3</td>\n",
       "      <td>49.0</td>\n",
       "      <td>RJ</td>\n",
       "      <td>C</td>\n",
       "      <td>0</td>\n",
       "    </tr>\n",
       "    <tr>\n",
       "      <th>3</th>\n",
       "      <td>4</td>\n",
       "      <td>71.0</td>\n",
       "      <td>BA</td>\n",
       "      <td>D</td>\n",
       "      <td>0</td>\n",
       "    </tr>\n",
       "    <tr>\n",
       "      <th>4</th>\n",
       "      <td>5</td>\n",
       "      <td>58.0</td>\n",
       "      <td>MG</td>\n",
       "      <td>D</td>\n",
       "      <td>1</td>\n",
       "    </tr>\n",
       "    <tr>\n",
       "      <th>5</th>\n",
       "      <td>6</td>\n",
       "      <td>26.0</td>\n",
       "      <td>SP</td>\n",
       "      <td>B</td>\n",
       "      <td>0</td>\n",
       "    </tr>\n",
       "    <tr>\n",
       "      <th>6</th>\n",
       "      <td>7</td>\n",
       "      <td>87.0</td>\n",
       "      <td>BA</td>\n",
       "      <td>A</td>\n",
       "      <td>1</td>\n",
       "    </tr>\n",
       "    <tr>\n",
       "      <th>7</th>\n",
       "      <td>8</td>\n",
       "      <td>56.0</td>\n",
       "      <td>MG</td>\n",
       "      <td>A</td>\n",
       "      <td>1</td>\n",
       "    </tr>\n",
       "    <tr>\n",
       "      <th>8</th>\n",
       "      <td>9</td>\n",
       "      <td>74.0</td>\n",
       "      <td>BA</td>\n",
       "      <td>C</td>\n",
       "      <td>0</td>\n",
       "    </tr>\n",
       "    <tr>\n",
       "      <th>9</th>\n",
       "      <td>10</td>\n",
       "      <td>54.0</td>\n",
       "      <td>SP</td>\n",
       "      <td>C</td>\n",
       "      <td>0</td>\n",
       "    </tr>\n",
       "    <tr>\n",
       "      <th>10</th>\n",
       "      <td>11</td>\n",
       "      <td>22.0</td>\n",
       "      <td>SP</td>\n",
       "      <td>C</td>\n",
       "      <td>1</td>\n",
       "    </tr>\n",
       "    <tr>\n",
       "      <th>11</th>\n",
       "      <td>12</td>\n",
       "      <td>38.0</td>\n",
       "      <td>SP</td>\n",
       "      <td>C</td>\n",
       "      <td>0</td>\n",
       "    </tr>\n",
       "    <tr>\n",
       "      <th>12</th>\n",
       "      <td>13</td>\n",
       "      <td>14.0</td>\n",
       "      <td>RJ</td>\n",
       "      <td>C</td>\n",
       "      <td>1</td>\n",
       "    </tr>\n",
       "    <tr>\n",
       "      <th>13</th>\n",
       "      <td>14</td>\n",
       "      <td>49.0</td>\n",
       "      <td>RJ</td>\n",
       "      <td>C</td>\n",
       "      <td>0</td>\n",
       "    </tr>\n",
       "    <tr>\n",
       "      <th>14</th>\n",
       "      <td>15</td>\n",
       "      <td>84.0</td>\n",
       "      <td>RS</td>\n",
       "      <td>D</td>\n",
       "      <td>1</td>\n",
       "    </tr>\n",
       "    <tr>\n",
       "      <th>15</th>\n",
       "      <td>16</td>\n",
       "      <td>49.0</td>\n",
       "      <td>RS</td>\n",
       "      <td>E</td>\n",
       "      <td>0</td>\n",
       "    </tr>\n",
       "    <tr>\n",
       "      <th>16</th>\n",
       "      <td>17</td>\n",
       "      <td>49.0</td>\n",
       "      <td>SP</td>\n",
       "      <td>E</td>\n",
       "      <td>0</td>\n",
       "    </tr>\n",
       "    <tr>\n",
       "      <th>17</th>\n",
       "      <td>18</td>\n",
       "      <td>68.0</td>\n",
       "      <td>SP</td>\n",
       "      <td>D</td>\n",
       "      <td>0</td>\n",
       "    </tr>\n",
       "    <tr>\n",
       "      <th>18</th>\n",
       "      <td>19</td>\n",
       "      <td>61.0</td>\n",
       "      <td>SP</td>\n",
       "      <td>D</td>\n",
       "      <td>0</td>\n",
       "    </tr>\n",
       "    <tr>\n",
       "      <th>19</th>\n",
       "      <td>20</td>\n",
       "      <td>49.0</td>\n",
       "      <td>RS</td>\n",
       "      <td>E</td>\n",
       "      <td>1</td>\n",
       "    </tr>\n",
       "    <tr>\n",
       "      <th>20</th>\n",
       "      <td>21</td>\n",
       "      <td>49.0</td>\n",
       "      <td>RS</td>\n",
       "      <td>D</td>\n",
       "      <td>1</td>\n",
       "    </tr>\n",
       "    <tr>\n",
       "      <th>21</th>\n",
       "      <td>22</td>\n",
       "      <td>35.0</td>\n",
       "      <td>SP</td>\n",
       "      <td>D</td>\n",
       "      <td>0</td>\n",
       "    </tr>\n",
       "    <tr>\n",
       "      <th>22</th>\n",
       "      <td>23</td>\n",
       "      <td>37.0</td>\n",
       "      <td>SP</td>\n",
       "      <td>C</td>\n",
       "      <td>1</td>\n",
       "    </tr>\n",
       "    <tr>\n",
       "      <th>23</th>\n",
       "      <td>24</td>\n",
       "      <td>48.0</td>\n",
       "      <td>RS</td>\n",
       "      <td>C</td>\n",
       "      <td>0</td>\n",
       "    </tr>\n",
       "    <tr>\n",
       "      <th>24</th>\n",
       "      <td>25</td>\n",
       "      <td>49.0</td>\n",
       "      <td>RS</td>\n",
       "      <td>C</td>\n",
       "      <td>0</td>\n",
       "    </tr>\n",
       "    <tr>\n",
       "      <th>25</th>\n",
       "      <td>26</td>\n",
       "      <td>49.0</td>\n",
       "      <td>CE</td>\n",
       "      <td>C</td>\n",
       "      <td>1</td>\n",
       "    </tr>\n",
       "    <tr>\n",
       "      <th>26</th>\n",
       "      <td>27</td>\n",
       "      <td>20.0</td>\n",
       "      <td>CE</td>\n",
       "      <td>B</td>\n",
       "      <td>0</td>\n",
       "    </tr>\n",
       "    <tr>\n",
       "      <th>27</th>\n",
       "      <td>28</td>\n",
       "      <td>49.0</td>\n",
       "      <td>SP</td>\n",
       "      <td>B</td>\n",
       "      <td>0</td>\n",
       "    </tr>\n",
       "    <tr>\n",
       "      <th>28</th>\n",
       "      <td>29</td>\n",
       "      <td>49.0</td>\n",
       "      <td>SP</td>\n",
       "      <td>D</td>\n",
       "      <td>0</td>\n",
       "    </tr>\n",
       "    <tr>\n",
       "      <th>29</th>\n",
       "      <td>30</td>\n",
       "      <td>41.0</td>\n",
       "      <td>RJ</td>\n",
       "      <td>D</td>\n",
       "      <td>1</td>\n",
       "    </tr>\n",
       "    <tr>\n",
       "      <th>30</th>\n",
       "      <td>31</td>\n",
       "      <td>49.0</td>\n",
       "      <td>RJ</td>\n",
       "      <td>B</td>\n",
       "      <td>0</td>\n",
       "    </tr>\n",
       "    <tr>\n",
       "      <th>31</th>\n",
       "      <td>32</td>\n",
       "      <td>87.0</td>\n",
       "      <td>RJ</td>\n",
       "      <td>A</td>\n",
       "      <td>0</td>\n",
       "    </tr>\n",
       "    <tr>\n",
       "      <th>32</th>\n",
       "      <td>33</td>\n",
       "      <td>49.0</td>\n",
       "      <td>SP</td>\n",
       "      <td>A</td>\n",
       "      <td>1</td>\n",
       "    </tr>\n",
       "    <tr>\n",
       "      <th>33</th>\n",
       "      <td>34</td>\n",
       "      <td>49.0</td>\n",
       "      <td>SP</td>\n",
       "      <td>C</td>\n",
       "      <td>0</td>\n",
       "    </tr>\n",
       "    <tr>\n",
       "      <th>34</th>\n",
       "      <td>35</td>\n",
       "      <td>26.0</td>\n",
       "      <td>CE</td>\n",
       "      <td>C</td>\n",
       "      <td>0</td>\n",
       "    </tr>\n",
       "    <tr>\n",
       "      <th>35</th>\n",
       "      <td>36</td>\n",
       "      <td>49.0</td>\n",
       "      <td>CE</td>\n",
       "      <td>C</td>\n",
       "      <td>1</td>\n",
       "    </tr>\n",
       "    <tr>\n",
       "      <th>36</th>\n",
       "      <td>37</td>\n",
       "      <td>49.0</td>\n",
       "      <td>SP</td>\n",
       "      <td>D</td>\n",
       "      <td>0</td>\n",
       "    </tr>\n",
       "    <tr>\n",
       "      <th>37</th>\n",
       "      <td>38</td>\n",
       "      <td>84.0</td>\n",
       "      <td>SP</td>\n",
       "      <td>C</td>\n",
       "      <td>0</td>\n",
       "    </tr>\n",
       "    <tr>\n",
       "      <th>38</th>\n",
       "      <td>39</td>\n",
       "      <td>49.0</td>\n",
       "      <td>SP</td>\n",
       "      <td>A</td>\n",
       "      <td>0</td>\n",
       "    </tr>\n",
       "    <tr>\n",
       "      <th>39</th>\n",
       "      <td>40</td>\n",
       "      <td>54.0</td>\n",
       "      <td>PE</td>\n",
       "      <td>B</td>\n",
       "      <td>0</td>\n",
       "    </tr>\n",
       "    <tr>\n",
       "      <th>40</th>\n",
       "      <td>41</td>\n",
       "      <td>61.0</td>\n",
       "      <td>PE</td>\n",
       "      <td>B</td>\n",
       "      <td>0</td>\n",
       "    </tr>\n",
       "    <tr>\n",
       "      <th>41</th>\n",
       "      <td>42</td>\n",
       "      <td>49.0</td>\n",
       "      <td>PE</td>\n",
       "      <td>C</td>\n",
       "      <td>0</td>\n",
       "    </tr>\n",
       "    <tr>\n",
       "      <th>42</th>\n",
       "      <td>43</td>\n",
       "      <td>49.0</td>\n",
       "      <td>SP</td>\n",
       "      <td>C</td>\n",
       "      <td>0</td>\n",
       "    </tr>\n",
       "    <tr>\n",
       "      <th>43</th>\n",
       "      <td>44</td>\n",
       "      <td>57.0</td>\n",
       "      <td>SP</td>\n",
       "      <td>C</td>\n",
       "      <td>0</td>\n",
       "    </tr>\n",
       "    <tr>\n",
       "      <th>44</th>\n",
       "      <td>45</td>\n",
       "      <td>45.0</td>\n",
       "      <td>SP</td>\n",
       "      <td>D</td>\n",
       "      <td>0</td>\n",
       "    </tr>\n",
       "    <tr>\n",
       "      <th>45</th>\n",
       "      <td>46</td>\n",
       "      <td>33.0</td>\n",
       "      <td>AM</td>\n",
       "      <td>D</td>\n",
       "      <td>0</td>\n",
       "    </tr>\n",
       "    <tr>\n",
       "      <th>46</th>\n",
       "      <td>47</td>\n",
       "      <td>49.0</td>\n",
       "      <td>PE</td>\n",
       "      <td>E</td>\n",
       "      <td>0</td>\n",
       "    </tr>\n",
       "    <tr>\n",
       "      <th>47</th>\n",
       "      <td>48</td>\n",
       "      <td>49.0</td>\n",
       "      <td>PE</td>\n",
       "      <td>E</td>\n",
       "      <td>0</td>\n",
       "    </tr>\n",
       "    <tr>\n",
       "      <th>48</th>\n",
       "      <td>49</td>\n",
       "      <td>49.0</td>\n",
       "      <td>MG</td>\n",
       "      <td>C</td>\n",
       "      <td>1</td>\n",
       "    </tr>\n",
       "    <tr>\n",
       "      <th>49</th>\n",
       "      <td>50</td>\n",
       "      <td>17.0</td>\n",
       "      <td>MG</td>\n",
       "      <td>C</td>\n",
       "      <td>0</td>\n",
       "    </tr>\n",
       "  </tbody>\n",
       "</table>\n",
       "</div>"
      ],
      "text/plain": [
       "    id  idade  uf renda  vacina\n",
       "0    1   15.0  SP     C       1\n",
       "1    2   38.0  MG     C       0\n",
       "2    3   49.0  RJ     C       0\n",
       "3    4   71.0  BA     D       0\n",
       "4    5   58.0  MG     D       1\n",
       "5    6   26.0  SP     B       0\n",
       "6    7   87.0  BA     A       1\n",
       "7    8   56.0  MG     A       1\n",
       "8    9   74.0  BA     C       0\n",
       "9   10   54.0  SP     C       0\n",
       "10  11   22.0  SP     C       1\n",
       "11  12   38.0  SP     C       0\n",
       "12  13   14.0  RJ     C       1\n",
       "13  14   49.0  RJ     C       0\n",
       "14  15   84.0  RS     D       1\n",
       "15  16   49.0  RS     E       0\n",
       "16  17   49.0  SP     E       0\n",
       "17  18   68.0  SP     D       0\n",
       "18  19   61.0  SP     D       0\n",
       "19  20   49.0  RS     E       1\n",
       "20  21   49.0  RS     D       1\n",
       "21  22   35.0  SP     D       0\n",
       "22  23   37.0  SP     C       1\n",
       "23  24   48.0  RS     C       0\n",
       "24  25   49.0  RS     C       0\n",
       "25  26   49.0  CE     C       1\n",
       "26  27   20.0  CE     B       0\n",
       "27  28   49.0  SP     B       0\n",
       "28  29   49.0  SP     D       0\n",
       "29  30   41.0  RJ     D       1\n",
       "30  31   49.0  RJ     B       0\n",
       "31  32   87.0  RJ     A       0\n",
       "32  33   49.0  SP     A       1\n",
       "33  34   49.0  SP     C       0\n",
       "34  35   26.0  CE     C       0\n",
       "35  36   49.0  CE     C       1\n",
       "36  37   49.0  SP     D       0\n",
       "37  38   84.0  SP     C       0\n",
       "38  39   49.0  SP     A       0\n",
       "39  40   54.0  PE     B       0\n",
       "40  41   61.0  PE     B       0\n",
       "41  42   49.0  PE     C       0\n",
       "42  43   49.0  SP     C       0\n",
       "43  44   57.0  SP     C       0\n",
       "44  45   45.0  SP     D       0\n",
       "45  46   33.0  AM     D       0\n",
       "46  47   49.0  PE     E       0\n",
       "47  48   49.0  PE     E       0\n",
       "48  49   49.0  MG     C       1\n",
       "49  50   17.0  MG     C       0"
      ]
     },
     "execution_count": 11,
     "metadata": {},
     "output_type": "execute_result"
    }
   ],
   "source": [
    "df"
   ]
  }
 ],
 "metadata": {
  "interpreter": {
   "hash": "43f1ec4a87b4e94bc949283c1739212b494a127a96d2c8a7f471161b3c30afbe"
  },
  "kernelspec": {
   "display_name": "Python 3.9.7 ('env_01')",
   "language": "python",
   "name": "python3"
  },
  "language_info": {
   "codemirror_mode": {
    "name": "ipython",
    "version": 3
   },
   "file_extension": ".py",
   "mimetype": "text/x-python",
   "name": "python",
   "nbconvert_exporter": "python",
   "pygments_lexer": "ipython3",
   "version": "3.9.7"
  },
  "varInspector": {
   "cols": {
    "lenName": 16,
    "lenType": 16,
    "lenVar": 40
   },
   "kernels_config": {
    "python": {
     "delete_cmd_postfix": "",
     "delete_cmd_prefix": "del ",
     "library": "var_list.py",
     "varRefreshCmd": "print(var_dic_list())"
    },
    "r": {
     "delete_cmd_postfix": ") ",
     "delete_cmd_prefix": "rm(",
     "library": "var_list.r",
     "varRefreshCmd": "cat(var_dic_list()) "
    }
   },
   "types_to_exclude": [
    "module",
    "function",
    "builtin_function_or_method",
    "instance",
    "_Feature"
   ],
   "window_display": false
  }
 },
 "nbformat": 4,
 "nbformat_minor": 2
}
